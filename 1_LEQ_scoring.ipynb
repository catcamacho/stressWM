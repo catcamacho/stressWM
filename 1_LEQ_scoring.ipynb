{
 "cells": [
  {
   "cell_type": "code",
   "execution_count": 36,
   "metadata": {},
   "outputs": [],
   "source": [
    "import pandas as pd\n",
    "from pandas import read_csv, DataFrame\n",
    "\n",
    "df1 = read_csv('ChEC-LEQ_rated_20200511.csv', index_col=None)\n",
    "df2 = read_csv('LEQ_EmoGrow_JC_06152020_rated.csv', index_col=None)\n",
    "\n",
    "df3 = pd.concat([df1, df2])\n",
    "\n",
    "df3.to_csv('combined.csv')"
   ]
  },
  {
   "cell_type": "code",
   "execution_count": 37,
   "metadata": {},
   "outputs": [],
   "source": [
    "data = read_csv('combined.csv', index_col=None)"
   ]
  },
  {
   "cell_type": "code",
   "execution_count": 38,
   "metadata": {},
   "outputs": [],
   "source": [
    "prefixes = ['ser_acc','wit_ser_acc','nat_dis','oth_ill','death_oth','death_pet','med_pro','sep',\n",
    "            'suicide','assault','threat','kidnap','an_att','wit_fam_vio','wit_fam_threat',\n",
    "            'wit_oth_vio','yell','lack_care','new_sib','new_scho','new_home','change_fam','hobby',\n",
    "            'new_friend','end_friend','finan','recog','oth_stress','oth_pos']\n",
    "neg_pref = ['ser_acc','wit_ser_acc','nat_dis','oth_ill','death_oth','death_pet','med_pro','sep',\n",
    "            'suicide','assault','threat','kidnap','an_att','wit_fam_vio','wit_fam_threat',\n",
    "            'wit_oth_vio','yell','lack_care','oth_stress']\n",
    "pos_pref = ['hobby','new_friend','recog','oth_pos']\n",
    "ambig_pref = ['new_sib','new_scho','new_home','change_fam','end_friend','finan']\n",
    "psychosocial = ['wit_serious_accident', 'other_illnessinjury', 'death_person', 'death_pet', \n",
    "                'separation', 'suicide', 'threat_harm', 'wit_fam_violence', 'wit_fam_threat', \n",
    "                'wit_oth_violence', 'yell', 'lack_care', 'finance']\n",
    "physical = ['serious_accident', 'nat_disaster', 'med_procedures', 'assault', 'animal_attack']\n",
    "\n",
    "\n",
    "# subs = "
   ]
  },
  {
   "cell_type": "code",
   "execution_count": 39,
   "metadata": {},
   "outputs": [],
   "source": [
    "import numpy as np\n",
    "\n",
    "data['LEQ_tot_neg'] = 0\n",
    "data['LEQ_sum_sev_neg'] = 0\n",
    "data['LEQ_tot_pos'] = 0\n",
    "data['LEQ_sum_sev_pos'] = 0\n",
    "data['LEQ_tot_endorsed'] = 0\n",
    "data['LEQ_tot_psych'] = 0\n",
    "# data['LEQ_sum_sev_psych'] = 0\n",
    "data['LEQ_tot_phys'] = 0\n",
    "# data['LEQ_sum_sev_phys'] = 0\n",
    "\n",
    "\n",
    "\n",
    "# loop through and start making summary codes\n",
    "for e in prefixes:\n",
    "    data[e+'_num_neg_events'] = 0\n",
    "    data[e+'_num_pos_events'] = 0\n",
    "    data[e+'_tot_endorsed'] = 0\n",
    "    data[e+'_num_psych_events'] = 0\n",
    "    data[e+'_num_phys_events'] = 0\n",
    "    data[e+'_num_neg_events'] = (data[e+'_imp1']<0)*1+(data[e+'_imp2']<0)*1+(data[e+'_imp3']<0)*1+(data[e+'_imp4']<0)*1\n",
    "    data[e+'_num_pos_events'] = (data[e+'_imp1']>0)*1+(data[e+'_imp2']>0)*1+(data[e+'_imp3']>0)*1+(data[e+'_imp4']>0)*1\n",
    "    data[e+'_tot_endorsed'] = (np.isfinite(data[e+'_imp1']))*1+(np.isfinite(data[e+'_imp2']))*1+(np.isfinite(data[e+'_imp3']))*1+(np.isfinite(data[e+'_imp4']))*1\n",
    "    # type, 0=phys, 1 = psych\n",
    "    data[e+'_num_psych_events'] = (data[e+'_type1']>0)*1+(data[e+'_type2']>0)*1+(data[e+'_type3']>0)*1+(data[e+'_type4']>0)*1\n",
    "    data[e+'_num_phys_events'] = (data[e+'_type1']<1)*1+(data[e+'_type2']<1)*1+(data[e+'_type3']<1)*1+(data[e+'_type4']<1)*1\n",
    "    \n",
    "    \n",
    "    negtemp = DataFrame(columns=['_imp1','_imp2','_imp3','_imp4'], index=data.index)\n",
    "    postemp = DataFrame(columns=['_imp1','_imp2','_imp3','_imp4'], index=data.index)\n",
    "    for i in ['_imp1','_imp2','_imp3','_imp4']:\n",
    "        negtemp[i] = abs(data[data[e+i]<0][e+i])\n",
    "        postemp[i] = data[data[e+i]>0][e+i]\n",
    "    negtemp.fillna(0,inplace=True)\n",
    "    postemp.fillna(0, inplace=True)\n",
    "\n",
    "    data[e+'_sum_sev_neg'] = negtemp.sum(axis=1)\n",
    "    data[e+'_sum_sev_pos'] = postemp.sum(axis=1)\n",
    " \n",
    "\n",
    "    data['LEQ_tot_neg'] = data['LEQ_tot_neg'] + data[e+'_num_neg_events']\n",
    "    data['LEQ_sum_sev_neg'] = data['LEQ_sum_sev_neg'] + data[e+'_sum_sev_neg']\n",
    "    data['LEQ_tot_pos'] = data['LEQ_tot_pos'] + data[e+'_num_pos_events']\n",
    "    data['LEQ_sum_sev_pos'] = data['LEQ_sum_sev_pos'] + data[e+'_sum_sev_pos']\n",
    "    data['LEQ_tot_endorsed'] = data['LEQ_tot_endorsed'] + data[e+'_tot_endorsed'] \n",
    "    data['LEQ_tot_psych'] = data['LEQ_tot_psych'] + data[e+'_num_psych_events']\n",
    "    data['LEQ_tot_phys'] = data['LEQ_tot_phys'] + data[e+'_num_phys_events']\n",
    "    \n",
    " \n",
    "    \n",
    "                                                                                                                                           "
   ]
  },
  {
   "cell_type": "code",
   "execution_count": 40,
   "metadata": {},
   "outputs": [],
   "source": [
    "data.to_csv('LEQ_Combined_all_scored.csv')"
   ]
  },
  {
   "cell_type": "code",
   "execution_count": 1,
   "metadata": {},
   "outputs": [],
   "source": [
    "import pandas as pd\n",
    "from pandas import read_csv, DataFrame\n",
    "import matplotlib.pyplot as plt\n",
    "import seaborn as sns\n",
    "\n",
    "scored_df = read_csv('LEQ_Combined_all_scored.csv', index_col=None)\n",
    "# drop subjects that don't have DWI by index\n",
    "DWI_sample = scored_df.drop([2, 3, 4, 5, 9, 10, 13, 14, 18, 19, 20, 21, 22, 24, 28, \n",
    "                29, 30, 33, 35, 37, 38, 39, 41, 42, 47, 48, 52, 54, 55,\n",
    "               56, 57, 58, 67, 77, 90, 100, 109, 123, 125, 132, 133, \n",
    "                134, 135, 136, 138, 145, 148, 153, 155, 158, 161,\n",
    "               163, 171, 172, 178, 185, 188, 189, 190, 191, 192, 193,\n",
    "               194, 195, 196, 198, 199, 200, 201, 202,203, 204, 205, \n",
    "               206, 207, 208, 209])\n",
    "\n",
    "# index = DWI_sample.index\n",
    "# sample = len(index)\n",
    "# print(sample)\n",
    "\n",
    "# full_index = scored_df.index\n",
    "# full_sample = len(full_index)\n",
    "# print(full_sample)"
   ]
  },
  {
   "cell_type": "code",
   "execution_count": null,
   "metadata": {},
   "outputs": [],
   "source": [
    "#categorical histogram"
   ]
  },
  {
   "cell_type": "code",
   "execution_count": 2,
   "metadata": {},
   "outputs": [
    {
     "data": {
      "text/plain": [
       "<Figure size 432x288 with 0 Axes>"
      ]
     },
     "metadata": {},
     "output_type": "display_data"
    }
   ],
   "source": [
    "# #count histograms\n",
    "\n",
    "sns.distplot(scored_df['LEQ_tot_endorsed'],kde=False, color='purple')\n",
    "plt.suptitle('Total Event Endorsement (DWI Sample)')\n",
    "plt.xlabel('events endorsed')\n",
    "plt.ylabel('subject frequency')\n",
    "plt.savefig('plots/LEQ_tot_endorsed.png')\n",
    "plt.clf()\n",
    "\n",
    "sns.distplot(DWI_sample['LEQ_tot_endorsed'],kde=False, color='purple')\n",
    "plt.suptitle('Total Event Endorsement (Full Sample)')\n",
    "plt.xlabel('events endorsed')\n",
    "plt.ylabel('subject frequency')\n",
    "plt.savefig('plots/LEQ_tot_endorsed_fullSample.png')\n",
    "plt.clf()\n",
    "\n",
    "sns.distplot(DWI_sample['LEQ_tot_psych'], kde=False, color='#00B9DE')\n",
    "plt.suptitle('Psychosocial Event Endorsement')\n",
    "plt.xlabel('events endorsed')\n",
    "plt.ylabel('subject frequency')\n",
    "plt.savefig('plots/LEQ_tot_psych.png')\n",
    "plt.clf()\n",
    "\n",
    "sns.distplot(DWI_sample['LEQ_tot_phys'], kde=False, color='#0AE1A0')\n",
    "plt.suptitle('Physical Event Endorsement')\n",
    "plt.xlabel('events endorsed')\n",
    "plt.ylabel('subject frequency')\n",
    "plt.savefig('plots/LEQ_tot_phys.png')\n",
    "plt.clf()\n",
    "\n",
    "\n",
    "# sns.distplot(DWI_sample['LEQ_tot_neg'],kde=False, color='purple')\n",
    "# plt.suptitle('Negative Event Endorsement')\n",
    "# plt.xlabel('events endorsed')\n",
    "# plt.ylabel('count')\n",
    "# plt.savefig('plots/LEQ_tot_neg.png')\n",
    "# plt.clf()\n",
    "\n",
    "# sns.distplot(DWI_sample['LEQ_tot_pos'], kde=False, color='purple')\n",
    "# plt.suptitle('Positive Event Endorsement')\n",
    "# plt.xlabel('events endorsed')\n",
    "# plt.ylabel('count')\n",
    "# plt.savefig('plots/LEQ_tot_pos.png')\n",
    "# plt.clf()"
   ]
  },
  {
   "cell_type": "code",
   "execution_count": 46,
   "metadata": {},
   "outputs": [
    {
     "data": {
      "text/plain": [
       "<Figure size 432x288 with 0 Axes>"
      ]
     },
     "metadata": {},
     "output_type": "display_data"
    }
   ],
   "source": [
    "#scored histograms\n",
    "#DTI sample\n",
    "sns.distplot(DWI_sample['LEQ_sum_sev_neg'], kde=False, color='red')\n",
    "plt.suptitle('Sum Severity Negative Events (DWI Sample)')\n",
    "plt.xlabel('sum severity')\n",
    "plt.ylabel('subject frequency')\n",
    "plt.savefig('plots/sum_sev_neg.png')\n",
    "plt.clf()\n",
    "\n",
    "sns.distplot(DWI_sample['LEQ_sum_sev_pos'], kde=False, color='blue')\n",
    "plt.suptitle('Sum Severity Positive Events (DWI Sample)')\n",
    "plt.xlabel('sum severity')\n",
    "plt.ylabel('subject_frequency')\n",
    "plt.savefig('plots/sum_sev_pos.png')\n",
    "plt.clf()\n",
    "\n",
    "#Full sample\n",
    "sns.distplot(scored_df['LEQ_sum_sev_neg'], kde=False, color='red')\n",
    "plt.suptitle('Sum Severity Negative Events (Full Sample)')\n",
    "plt.xlabel('sum severity')\n",
    "plt.ylabel('subject frequency')\n",
    "plt.savefig('plots/sum_sev_neg_fullSample.png')\n",
    "plt.clf()\n",
    "\n",
    "sns.distplot(scored_df['LEQ_sum_sev_pos'], kde=False, color='blue')\n",
    "plt.suptitle('Sum Severity Positive Events (Full Sample)')\n",
    "plt.xlabel('sum severity')\n",
    "plt.ylabel('subject_frequency')\n",
    "plt.savefig('plots/sum_sev_pos_fullSample.png')\n",
    "plt.clf()\n"
   ]
  },
  {
   "cell_type": "code",
   "execution_count": null,
   "metadata": {},
   "outputs": [],
   "source": []
  }
 ],
 "metadata": {
  "kernelspec": {
   "display_name": "Python 3",
   "language": "python",
   "name": "python3"
  },
  "language_info": {
   "codemirror_mode": {
    "name": "ipython",
    "version": 3
   },
   "file_extension": ".py",
   "mimetype": "text/x-python",
   "name": "python",
   "nbconvert_exporter": "python",
   "pygments_lexer": "ipython3",
   "version": "3.8.0"
  }
 },
 "nbformat": 4,
 "nbformat_minor": 4
}

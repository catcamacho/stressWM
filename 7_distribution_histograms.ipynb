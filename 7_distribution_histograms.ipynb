{
 "cells": [
  {
   "cell_type": "code",
   "execution_count": 14,
   "metadata": {},
   "outputs": [],
   "source": [
    "import pandas as pd\n",
    "from pandas import read_csv, DataFrame\n",
    "import matplotlib.pyplot as plt\n",
    "import seaborn as sns\n",
    "\n",
    "# scored_df = read_csv('LEQ_Combined_all_scored.csv', index_col=None)\n",
    "# # drop subjects that don't have DWI by index\n",
    "# DWI_sample = scored_df.drop([2, 3, 4, 5, 9, 10, 13, 14, 18, 19, 20, 21, 22, 24, 28, \n",
    "#                 29, 30, 33, 35, 37, 38, 39, 41, 42, 47, 48, 52, 54, 55,\n",
    "#                56, 57, 58, 67, 77, 90, 100, 109, 123, 125, 132, 133, \n",
    "#                 134, 135, 136, 138, 145, 148, 153, 155, 158, 161,\n",
    "#                163, 171, 172, 178, 185, 188, 189, 190, 191, 192, 193,\n",
    "#                194, 195, 196, 198, 199, 200, 201, 202,203, 204, 205, \n",
    "#                206, 207, 208, 209])\n",
    "\n",
    "# index = DWI_sample.index\n",
    "# sample = len(index)\n",
    "# print(sample)\n",
    "\n",
    "# full_index = scored_df.index\n",
    "# full_sample = len(full_index)\n",
    "# print(full_sample)\n",
    "project_home = '/data/perlman/moochie/user_data/CamachoCat'\n",
    "\n",
    "\n",
    "\n",
    "DWI_sample = read_csv('/data/perlman/moochie/user_data/ChinJenna/full_data.csv')\n",
    "full_demographics = read_csv('/data/perlman/moochie/user_data/ChinJenna/StressNeurodev/scored_data/demographics/SRCD_demographics_both.csv')\n",
    "sample_demographics = full_demographics.merge(DWI_sample, on='ID')\n",
    "sample_demographics.to_csv('/data/perlman/moochie/user_data/ChinJenna/StressNeurodev/scored_data/demographics/SRCD_sample_dem.csv')"
   ]
  },
  {
   "cell_type": "code",
   "execution_count": 12,
   "metadata": {},
   "outputs": [
    {
     "data": {
      "text/plain": [
       "Index(['ID', 'child_race_white', 'child_ethn', 'parent_sex',\n",
       "       'parent_race_white', 'parent_ethn', 'parent_bach', 'Unnamed: 0',\n",
       "       'default_default', 'default_dorsatt', 'default_frontoparietal',\n",
       "       'default_limbic', 'default_somatomotor', 'default_ventatt',\n",
       "       'default_visual', 'dorsatt_dorsatt', 'dorsatt_frontoparietal',\n",
       "       'dorsatt_limbic', 'dorsatt_somatomotor', 'dorsatt_ventatt',\n",
       "       'dorsatt_visual', 'frontoparietal_frontoparietal',\n",
       "       'frontoparietal_limbic', 'frontoparietal_somatomotor',\n",
       "       'frontoparietal_ventatt', 'frontoparietal_visual', 'limbic_limbic',\n",
       "       'limbic_somatomotor', 'limbic_ventatt', 'limbic_visual',\n",
       "       'somatomotor_somatomotor', 'somatomotor_ventatt', 'somatomotor_visual',\n",
       "       'ventatt_ventatt', 'ventatt_visual', 'visual_visual', 'scan_age',\n",
       "       'male', 'LEQ_tot_neg', 'LEQ_sumimp_neg', 'LEQ_tot_pos',\n",
       "       'LEQ_sumimp_pos', 'LEQ_tot_noimp', 'LEQ_wprox_neg', 'LEQ_wprox_pos',\n",
       "       'LEQ_tot_neg_prox1', 'LEQ_tot_neg_prox2', 'LEQ_tot_neg_prox3',\n",
       "       'LEQ_tot_neg_infanttod03', 'LEQ_tot_neg_prek35', 'LEQ_tot_neg_school68',\n",
       "       'LEQ_proxwtot_neg_infanttod03', 'LEQ_proxwtot_neg_prek35',\n",
       "       'LEQ_proxwtot_neg_school68', 'LEQ_tot_neg_yj', 'LEQ_tot_neg_predicted',\n",
       "       'LEQ_wprox_neg_yj', 'LEQ_wprox_neg_predicted'],\n",
       "      dtype='object')"
      ]
     },
     "execution_count": 12,
     "metadata": {},
     "output_type": "execute_result"
    }
   ],
   "source": [
    "sample_demographics.columns"
   ]
  },
  {
   "cell_type": "code",
   "execution_count": 26,
   "metadata": {},
   "outputs": [
    {
     "data": {
      "text/plain": [
       "parent_bach\n",
       "1.0    66\n",
       "dtype: int64"
      ]
     },
     "execution_count": 26,
     "metadata": {},
     "output_type": "execute_result"
    }
   ],
   "source": [
    "sample_demographics.groupby('child_race_white').size()\n",
    "sample_demographics.groupby('child_ethn').size()\n",
    "sample_demographics.groupby('parent_sex').size()\n",
    "sample_demographics.groupby('parent_race_white').size()\n",
    "sample_demographics.groupby('parent_ethn').size()\n",
    "sample_demographics.groupby('parent_bach').size()\n"
   ]
  },
  {
   "cell_type": "code",
   "execution_count": null,
   "metadata": {},
   "outputs": [],
   "source": [
    "#age counts\n",
    "import numpy as np\n",
    "\n",
    "for e in neg_pref:\n",
    "    data[e+'_ageY1'] = pd.to_numeric(data[e+'_ageY1'], errors='coerce')\n",
    "    age_df1 = data[e+'_ageY1'].value_counts(bins=[0,1,2,3,4,5,6,7,8]).sort_index().rename_axis(e+'_age1').reset_index(name=e+'_count1')\n",
    "    age_df1.to_csv('scored_data/ages1.csv', mode = 'a', header=None)\n",
    "\n",
    "for e in neg_pref:\n",
    "    data[e+'_ageY2'] = pd.to_numeric(data[e+'_ageY2'], errors='coerce')\n",
    "    age_df1 = data[e+'_ageY2'].value_counts(bins=[0,1,2,3,4,5,6,7,8]).sort_index().rename_axis(e+'_age2').reset_index(name=e+'_count2')\n",
    "    age_df1.to_csv('scored_data/ages2.csv', mode = 'a', header=None)\n",
    "    \n",
    "for e in neg_pref:\n",
    "    data[e+'_ageY3'] = pd.to_numeric(data[e+'_ageY3'], errors='coerce')\n",
    "    age_df1 = data[e+'_ageY3'].value_counts(bins=[0,1,2,3,4,5,6,7,8]).sort_index().rename_axis(e+'_age3').reset_index(name=e+'_count3')\n",
    "    age_df1.to_csv('scored_data/ages3.csv', mode = 'a', header=None)\n",
    "\n",
    "for e in neg_pref:\n",
    "    data[e+'_ageY4'] = pd.to_numeric(data[e+'_ageY4'], errors='coerce')\n",
    "    age_df1 = data[e+'_ageY4'].value_counts(bins=[0,1,2,3,4,5,6,7,8]).sort_index().rename_axis(e+'_age4').reset_index(name=e+'_count4')\n",
    "    age_df1.to_csv('scored_data/ages4.csv', mode = 'a', header=None)\n",
    "    \n",
    "for e in neg_pref:\n",
    "    data[e+'_ageY5'] = pd.to_numeric(data[e+'_ageY5'], errors='coerce')\n",
    "    age_df1 = data[e+'_ageY5'].value_counts(bins=[0,1,2,3,4,5,6,7,8]).sort_index().rename_axis(e+'_age5').reset_index(name=e+'_count5')\n",
    "    age_df1.to_csv('scored_data/ages5.csv', mode = 'a', header=None)"
   ]
  },
  {
   "cell_type": "code",
   "execution_count": null,
   "metadata": {},
   "outputs": [],
   "source": [
    "age_df1 = read_csv('scored_data/ages1.csv', names =['age', 'count'], index_col=None)\n",
    "age_df2 = read_csv('scored_data/ages2.csv', names =['age', 'count'], index_col=None)\n",
    "age_df3 = read_csv('scored_data/ages3.csv', names =['age', 'count'], index_col=None)\n",
    "age_df4 = read_csv('scored_data/ages4.csv', names =['age', 'count'], index_col=None)\n",
    "age_df5 = read_csv('scored_data/ages5.csv', names =['age', 'count'], index_col=None)\n",
    "\n",
    "\n",
    "ages = pd.concat([age_df1, age_df2, age_df3, age_df4, age_df5])\n",
    "ages.to_csv('scored_data/ages.csv', header= None)\n"
   ]
  },
  {
   "cell_type": "code",
   "execution_count": null,
   "metadata": {},
   "outputs": [],
   "source": [
    "# #count histograms\n",
    "\n",
    "sns.distplot(scored_df['LEQ_tot_endorsed'],kde=False, color='purple')\n",
    "plt.suptitle('Total Event Endorsement (DWI Sample)')\n",
    "plt.xlabel('events endorsed')\n",
    "plt.ylabel('subject frequency')\n",
    "plt.savefig('plots/LEQ_tot_endorsed.png')\n",
    "plt.clf()\n",
    "\n",
    "sns.distplot(DWI_sample['LEQ_tot_endorsed'],kde=False, color='purple')\n",
    "plt.suptitle('Total Event Endorsement (Full Sample)')\n",
    "plt.xlabel('events endorsed')\n",
    "plt.ylabel('subject frequency')\n",
    "plt.savefig('plots/LEQ_tot_endorsed_fullSample.png')\n",
    "plt.clf()\n",
    "\n",
    "sns.distplot(DWI_sample['LEQ_tot_psych'], kde=False, color='#00B9DE')\n",
    "plt.suptitle('Psychosocial Event Endorsement')\n",
    "plt.xlabel('events endorsed')\n",
    "plt.ylabel('subject frequency')\n",
    "plt.savefig('plots/LEQ_tot_psych.png')\n",
    "plt.clf()\n",
    "\n",
    "sns.distplot(DWI_sample['LEQ_tot_phys'], kde=False, color='#0AE1A0')\n",
    "plt.suptitle('Physical Event Endorsement')\n",
    "plt.xlabel('events endorsed')\n",
    "plt.ylabel('subject frequency')\n",
    "plt.savefig('plots/LEQ_tot_phys.png')\n",
    "plt.clf()\n",
    "\n",
    "\n",
    "# sns.distplot(DWI_sample['LEQ_tot_neg'],kde=False, color='purple')\n",
    "# plt.suptitle('Negative Event Endorsement')\n",
    "# plt.xlabel('events endorsed')\n",
    "# plt.ylabel('count')\n",
    "# plt.savefig('plots/LEQ_tot_neg.png')\n",
    "# plt.clf()\n",
    "\n",
    "# sns.distplot(DWI_sample['LEQ_tot_pos'], kde=False, color='purple')\n",
    "# plt.suptitle('Positive Event Endorsement')\n",
    "# plt.xlabel('events endorsed')\n",
    "# plt.ylabel('count')\n",
    "# plt.savefig('plots/LEQ_tot_pos.png')\n",
    "# plt.clf()"
   ]
  },
  {
   "cell_type": "code",
   "execution_count": null,
   "metadata": {},
   "outputs": [],
   "source": [
    "#scored histograms\n",
    "#DTI sample\n",
    "sns.distplot(DWI_sample['LEQ_sum_sev_neg'], kde=False, color='red')\n",
    "plt.suptitle('Sum Severity Negative Events (DWI Sample)')\n",
    "plt.xlabel('sum severity')\n",
    "plt.ylabel('subject frequency')\n",
    "plt.savefig('plots/sum_sev_neg.png')\n",
    "plt.clf()\n",
    "\n",
    "sns.distplot(DWI_sample['LEQ_sum_sev_pos'], kde=False, color='blue')\n",
    "plt.suptitle('Sum Severity Positive Events (DWI Sample)')\n",
    "plt.xlabel('sum severity')\n",
    "plt.ylabel('subject_frequency')\n",
    "plt.savefig('plots/sum_sev_pos.png')\n",
    "plt.clf()\n",
    "\n",
    "#Full sample\n",
    "sns.distplot(scored_df['LEQ_sum_sev_neg'], kde=False, color='red')\n",
    "plt.suptitle('Sum Severity Negative Events (Full Sample)')\n",
    "plt.xlabel('sum severity')\n",
    "plt.ylabel('subject frequency')\n",
    "plt.savefig('plots/sum_sev_neg_fullSample.png')\n",
    "plt.clf()\n",
    "\n",
    "sns.distplot(scored_df['LEQ_sum_sev_pos'], kde=False, color='blue')\n",
    "plt.suptitle('Sum Severity Positive Events (Full Sample)')\n",
    "plt.xlabel('sum severity')\n",
    "plt.ylabel('subject_frequency')\n",
    "plt.savefig('plots/sum_sev_pos_fullSample.png')\n",
    "plt.clf()\n"
   ]
  }
 ],
 "metadata": {
  "kernelspec": {
   "display_name": "Python 3",
   "language": "python",
   "name": "python3"
  },
  "language_info": {
   "codemirror_mode": {
    "name": "ipython",
    "version": 3
   },
   "file_extension": ".py",
   "mimetype": "text/x-python",
   "name": "python",
   "nbconvert_exporter": "python",
   "pygments_lexer": "ipython3",
   "version": "3.8.0"
  }
 },
 "nbformat": 4,
 "nbformat_minor": 4
}
